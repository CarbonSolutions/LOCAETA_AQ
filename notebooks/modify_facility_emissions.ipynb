{
 "cells": [
  {
   "cell_type": "markdown",
   "metadata": {},
   "source": [
    "## Process NEI and CCS emissions for a specific facility\n",
    "\n",
    "This script applies the CCS emissions (without NH3 and VOC) only for the two facilities (see below). \n",
    "\n",
    "Author : Yunha Lee\n",
    "\n",
    "Date: March 11, 2025"
   ]
  },
  {
   "cell_type": "code",
   "execution_count": null,
   "metadata": {},
   "outputs": [],
   "source": [
    "import geopandas as gpd\n",
    "from pyproj import CRS\n",
    "import os, sys\n",
    "\n",
    "# Add the path to the main package directory\n",
    "package_path = os.path.abspath('/Users/yunhalee/Documents/LOCAETA/LOCAETA_AQ/LOCAETA_AQ')\n",
    "if package_path not in sys.path:\n",
    "    sys.path.append(package_path)\n",
    "\n",
    "import emission_processing\n",
    "\n",
    "# Read the point source emissions\n",
    "\n",
    "original_emis = '/Users/yunhalee/Documents/LOCAETA/CS_emissions/Colorado_CCS_combined_NEI_point_oilgas_ptegu_ptnonimps_wo_NH3_VOC.shp'\n",
    "gdf_ccs = gpd.read_file(original_emis)\n",
    "\n",
    "# Reset index to ensure proper comparison\n",
    "gdf_ccs.reset_index(drop=True, inplace=True)\n",
    "\n",
    "target_crs = \"+proj=lcc +lat_1=33.000000 +lat_2=45.000000 +lat_0=40.000000 +lon_0=-97.000000 +x_0=0 +y_0=0 +a=6370997.000000 +b=6370997.000000 +to_meter=1\"\n",
    "gdf_ccs = emission_processing.reproject_and_save_gdf(gdf_ccs, target_crs)\n"
   ]
  },
  {
   "cell_type": "code",
   "execution_count": null,
   "metadata": {},
   "outputs": [],
   "source": [
    "# Apply CCS emissions to a facility of interest\n",
    "facility_eis_id = {'Suncor':1099511, 'Cherokee':3555811 } \n",
    "                   #'Suncor':1099511, } # 17445711} # Suncor frs_id = '1007923'\n",
    "\t\t# Cherokee plant alone (facility ID 1007207)  EIS_ID = 17445711\n",
    "        # NEI emission without landfill facility ID 1007709\n",
    "\n",
    "\n",
    "species_list = ['NOx', 'SOx', 'PM2_5'] # VOC and NH3 are excluded because the input emissions has NEI emissions for VOC and NH3. \n",
    "\n",
    "for key, id in facility_eis_id.items():\n",
    "\n",
    "    gdf_emis = gdf_ccs.copy()\n",
    "\n",
    "    if isinstance(id, int):\n",
    "        print(f\"{id} is integer\")\n",
    "    else:\n",
    "        print(f\"{id} must be integer\")\n",
    "        id = int(id)\n",
    "\n",
    "    print(f\"matching facility: {gdf_emis[gdf_emis['EIS_ID'] == id]}\" )\n",
    "\n",
    "    for spec in species_list:\n",
    "\n",
    "        # Create a mask for where EIS_ID values are not matching\n",
    "        valid_ccs_mask = gdf_emis['EIS_ID'] != id\n",
    "\n",
    "        # Where the mask is True, replace with NEI emissions value\n",
    "        gdf_emis.loc[valid_ccs_mask, spec] = gdf_emis.loc[valid_ccs_mask, spec + '_old']\n",
    "\n",
    "\n",
    "    # save the final gdf     \n",
    "    final_emis_file = f'/Users/yunhalee/Documents/LOCAETA/CS_emissions/Colorado_point_{key}_{id}_CCS_combined_NEI_point_oilgas_ptegu_ptnonimps_wo_NH3_VOC.shp' #Colorado_CCS_combined_NEI_point_oilgas_ptegu_ptnonimps.shp'\n",
    "\n",
    "    if not isinstance(gdf_emis, gpd.GeoDataFrame):\n",
    "        raise TypeError(\"The object is not a GeoDataFrame\")\n",
    "    else:\n",
    "        if gdf_emis.crs != CRS.from_string(target_crs):\n",
    "            raise ValueError(f\"The GeoDataFrame CRS does not match the target CRS: {target_crs}\")\n",
    "        else: \n",
    "            gdf_emis.to_file(final_emis_file)\n",
    "            print(f\"New emission shapefile saved to: {final_emis_file}\")\n"
   ]
  },
  {
   "cell_type": "markdown",
   "metadata": {},
   "source": [
    "## Exclude a specific facility from NEI emissions\n",
    "\n",
    "Note that Landfill is not existed in CCS emissions. "
   ]
  },
  {
   "cell_type": "code",
   "execution_count": null,
   "metadata": {},
   "outputs": [],
   "source": [
    "import geopandas as gpd\n",
    "from pyproj import CRS\n",
    "import os, sys\n",
    "\n",
    "# Add the path to the main package directory\n",
    "package_path = os.path.abspath('/Users/yunhalee/Documents/LOCAETA/LOCAETA_AQ/LOCAETA_AQ')\n",
    "if package_path not in sys.path:\n",
    "    sys.path.append(package_path)\n",
    "\n",
    "import emission_processing\n",
    "\n",
    "# Read the point source emissions\n",
    "\n",
    "original_emis ='/Users/yunhalee/Documents/LOCAETA/RCM/INMAP/evaldata_v1.6.1/2020_nei_emissions/new_NEI2020_pt_oilgas_ptegu_ptnonipm.shp'\n",
    "gdf_nei = gpd.read_file(original_emis)\n",
    "\n",
    "# Reset index to ensure proper comparison\n",
    "gdf_nei.reset_index(drop=True, inplace=True)\n",
    "\n",
    "target_crs = \"+proj=lcc +lat_1=33.000000 +lat_2=45.000000 +lat_0=40.000000 +lon_0=-97.000000 +x_0=0 +y_0=0 +a=6370997.000000 +b=6370997.000000 +to_meter=1\"\n",
    "gdf_nei = emission_processing.reproject_and_save_gdf(gdf_nei, target_crs)\n",
    "print(f\"Rows before filtering: {len(gdf_nei)}\")"
   ]
  },
  {
   "cell_type": "code",
   "execution_count": null,
   "metadata": {},
   "outputs": [],
   "source": [
    "# exclude the landfill facility ID 1007709 (EIS_ID = 2001411 )\n",
    "facility_eis_id = {'Landfill':2001411}\n",
    "\n",
    "for key, id in facility_eis_id.items():\n",
    "\n",
    "    if not isinstance(id, int):\n",
    "        print(f\"{id} must be integer\")\n",
    "        id = int(id)\n",
    "\n",
    "    print(f\"Rows before filtering: {len(gdf_nei)}\")\n",
    "\n",
    "    gdf_drop = gdf_nei[gdf_nei['EIS_ID'] == id]\n",
    "\n",
    "    print(gdf_drop)\n",
    "\n",
    "    # Drop rows where 'EIS_ID' is equal to id\n",
    "    gdf_nei = gdf_nei[gdf_nei['EIS_ID'] != id]\n",
    "    \n",
    "    print(f\"Rows after filtering: {len(gdf_nei)}\")\n",
    "\n",
    "    # save the final gdf     \n",
    "    final_emis_file = f'/Users/yunhalee/Documents/LOCAETA/RCM/INMAP/evaldata_v1.6.1/2020_nei_emissions/new_NEI2020_pt_oilgas_ptegu_ptnonipm_excluding_{key}_{id}.shp'\n",
    "\n",
    "    if not isinstance(gdf_nei, gpd.GeoDataFrame):\n",
    "        raise TypeError(\"The object is not a GeoDataFrame\")\n",
    "    else:\n",
    "        if gdf_nei.crs != CRS.from_string(target_crs):\n",
    "            raise ValueError(f\"The GeoDataFrame CRS does not match the target CRS: {target_crs}\")\n",
    "        else: \n",
    "            gdf_nei.to_file(final_emis_file)\n",
    "            print(f\"New emission shapefile saved to: {final_emis_file}\")"
   ]
  },
  {
   "cell_type": "markdown",
   "metadata": {},
   "source": [
    "## Create new facility emissions (here data center) into NEI emissions"
   ]
  },
  {
   "cell_type": "code",
   "execution_count": null,
   "metadata": {},
   "outputs": [],
   "source": [
    "import geopandas as gpd\n",
    "import pandas as pd\n",
    "from pyproj import CRS\n",
    "import os, sys\n",
    "\n",
    "\n",
    "input_file = '/Users/yunhalee/Documents/LOCAETA/CS_emissions/Data center case study NOx 2ppm.csv'\n",
    "\n",
    "df = pd.read_csv(input_file, encoding='utf-8')\n",
    "\n",
    "target_crs = \"+proj=lcc +lat_1=33.000000 +lat_2=45.000000 +lat_0=40.000000 +lon_0=-97.000000 +x_0=0 +y_0=0 +a=6370997.000000 +b=6370997.000000 +to_meter=1\"\n",
    "\n",
    "# Create a GeoDataFrame from the DataFrame, using points_from_xy to create Point geometries\n",
    "gdf = gpd.GeoDataFrame(df, \n",
    "                        geometry=gpd.points_from_xy(df['lon'], df['lat']), \n",
    "                        crs=\"EPSG:4326\") # Assuming input is WGS84\n",
    "\n",
    "gdf.drop(columns=['lon','lat'], inplace=True)\n",
    "# Re-project to the target CRS\n",
    "gdf = gdf.to_crs(target_crs)\n",
    "\n",
    "output_file = '/Users/yunhalee/Documents/LOCAETA/CS_emissions/Data_center_NOx_2ppm.shp'\n",
    "\n",
    "gdf.to_file(output_file, driver='ESRI Shapefile')"
   ]
  },
  {
   "cell_type": "markdown",
   "metadata": {},
   "source": [
    "## Merge new data center emission into NEI point source shape file"
   ]
  },
  {
   "cell_type": "code",
   "execution_count": null,
   "metadata": {},
   "outputs": [],
   "source": [
    "nei_file = '/Users/yunhalee/Documents/LOCAETA/RCM/INMAP/evaldata_v1.6.1/2020_nei_emissions/combined_NEI2020_pt_oilgas_ptegu_ptnonipm.shp'\n",
    "\n",
    "# Load shapefile with county boundaries and FIPS codes\n",
    "nei = gpd.read_file(nei_file)\n",
    "\n",
    "eis_list = nei['EIS_ID'].unique()\n",
    "\n",
    "if '00000000' in eis_list:\n",
    "    print(\"overlap\")\n",
    "else:\n",
    "    print(\"good to use\")"
   ]
  },
  {
   "cell_type": "code",
   "execution_count": null,
   "metadata": {},
   "outputs": [],
   "source": [
    "if '00000' in eis_list:\n",
    "    print(\"overlap\")\n",
    "else:\n",
    "    print(\"good to use\")"
   ]
  },
  {
   "cell_type": "markdown",
   "metadata": {},
   "source": [
    "## Find FIPS at given lat and long"
   ]
  },
  {
   "cell_type": "code",
   "execution_count": null,
   "metadata": {},
   "outputs": [],
   "source": [
    "import geopandas as gpd\n",
    "from shapely.geometry import Point\n",
    "import pandas as pd\n",
    "\n",
    "\n",
    "# Create a GeoDataFrame from the DataFrame, using points_from_xy to create Point geometries\n",
    "gdf = gpd.GeoDataFrame(df, \n",
    "                        geometry=gpd.points_from_xy(df['lon'], df['lat']), \n",
    "                        crs=\"EPSG:4326\") # Assuming input is WGS84\n",
    "                        \n",
    "county_shapefile_path = \"/Users/yunhalee/Documents/LOCAETA/NEI_emissions/NEI_2020_gaftp_Jun2024/emiss_shp2020/Census/cb_2020_us_county_500k.shp\"\n",
    "\n",
    "# Load shapefile with county boundaries and FIPS codes\n",
    "counties = gpd.read_file(county_shapefile_path)\n",
    "\n",
    "counties = counties.to_crs(target_crs)\n",
    "\n",
    "# Perform spatial join\n",
    "join_results = gpd.sjoin(gdf, counties, how=\"inner\", op=\"within\")\n",
    "\n",
    "# Extract FIPS codes\n",
    "print(join_results['GEOID'])"
   ]
  },
  {
   "cell_type": "code",
   "execution_count": null,
   "metadata": {},
   "outputs": [],
   "source": [
    "join_results"
   ]
  }
 ],
 "metadata": {
  "kernelspec": {
   "display_name": "Python 3",
   "language": "python",
   "name": "python3"
  },
  "language_info": {
   "codemirror_mode": {
    "name": "ipython",
    "version": 3
   },
   "file_extension": ".py",
   "mimetype": "text/x-python",
   "name": "python",
   "nbconvert_exporter": "python",
   "pygments_lexer": "ipython3",
   "version": "3.10.14"
  }
 },
 "nbformat": 4,
 "nbformat_minor": 2
}
