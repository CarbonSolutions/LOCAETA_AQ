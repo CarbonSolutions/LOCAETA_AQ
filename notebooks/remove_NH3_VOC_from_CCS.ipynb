{
 "cells": [
  {
   "cell_type": "markdown",
   "metadata": {},
   "source": [
    "## Create CCS emissions without NH3 emissions\n",
    "\n",
    "I am going to read the CCS emissions shapefile, which contains old and new emissions. To exclude the NH3 and VOC emissions increase by the amine-based CCS, the NH3 and VOC emissions will be swapped from new CCS emission to the NEI emissions"
   ]
  },
  {
   "cell_type": "code",
   "execution_count": null,
   "metadata": {},
   "outputs": [],
   "source": [
    "import geopandas as gpd\n",
    "\n",
    "\n",
    "# the CCS emissions shapefile \n",
    "NEI_CCS_emis_file = \"/Users/yunhalee/Documents/LOCAETA/CS_emissions/Colorado_CCS_combined_NEI_point_oilgas_ptegu_ptnonimps.shp\"\n",
    "State_CCS_emis_file = \"/Users/yunhalee/Documents/LOCAETA/CS_emissions/Colorado_point_CCS_reduced_emis.shp\"\n",
    "\n",
    "nei_ccs_emis = gpd.read_file(NEI_CCS_emis_file)\n",
    "state_ccs_emis = gpd.read_file(State_CCS_emis_file)\n",
    "\n",
    "# Convert NH3 and VOC emissions to the original NEI emissions\n",
    "nei_ccs_emis = nei_ccs_emis.rename(columns ={'NH3':'NH3_new', 'NH3_old':'NH3', 'VOC':'VOC_new', 'VOC_old':'VOC'})\n",
    "state_ccs_emis = state_ccs_emis.rename(columns ={'NH3':'NH3_new', 'NH3_old':'NH3', 'VOC':'VOC_new', 'VOC_old':'VOC'})\n",
    "\n",
    "NEI_CCS_noNH3_VOC_file = \"/Users/yunhalee/Documents/LOCAETA/CS_emissions/Colorado_CCS_combined_NEI_point_oilgas_ptegu_ptnonimps_wo_NH3_VOC.shp\"\n",
    "State_CCS_noNH3_VOC_file = \"/Users/yunhalee/Documents/LOCAETA/CS_emissions/Colorado_point_CCS_reduced_emis_wo_NH3_VOC.shp\"\n",
    "\n",
    "# Save the changes in new shapefiles \n",
    "nei_ccs_emis.to_file(NEI_CCS_noNH3_VOC_file)\n",
    "state_ccs_emis.to_file(State_CCS_noNH3_VOC_file)"
   ]
  }
 ],
 "metadata": {
  "kernelspec": {
   "display_name": "Python 3",
   "language": "python",
   "name": "python3"
  },
  "language_info": {
   "codemirror_mode": {
    "name": "ipython",
    "version": 3
   },
   "file_extension": ".py",
   "mimetype": "text/x-python",
   "name": "python",
   "nbconvert_exporter": "python",
   "pygments_lexer": "ipython3",
   "version": "3.10.14"
  }
 },
 "nbformat": 4,
 "nbformat_minor": 2
}
