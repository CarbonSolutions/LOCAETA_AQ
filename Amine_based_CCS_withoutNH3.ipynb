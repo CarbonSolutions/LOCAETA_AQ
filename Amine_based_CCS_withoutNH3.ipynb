{
 "cells": [
  {
   "cell_type": "markdown",
   "metadata": {},
   "source": [
    "## Create CCS emissions without NH3 emissions\n",
    "\n",
    "I am going to read the CCS emissions shapefile, which contains old and new emissions. To exclude the NH3 emissions increase by the amine-based CCS, the NH3 emissions will be swapped from new to old emissions"
   ]
  },
  {
   "cell_type": "code",
   "execution_count": 1,
   "metadata": {},
   "outputs": [
    {
     "name": "stderr",
     "output_type": "stream",
     "text": [
      "Warning 3: Cannot find header.dxf (GDAL_DATA is not defined)\n"
     ]
    },
    {
     "name": "stdout",
     "output_type": "stream",
     "text": [
      "Index(['FIPS', 'SCC', 'VOC_old', 'NOx_old', 'NH3_old', 'SOx_old', 'PM2_5_old',\n",
      "       'height', 'diam', 'temp', 'velocity', 'EIS_ID', 'VOC', 'NOx', 'NH3',\n",
      "       'SOx', 'PM2_5', 'geometry'],\n",
      "      dtype='object')\n"
     ]
    }
   ],
   "source": [
    "import geopandas as gpd\n",
    "\n",
    "\n",
    "# the CCS emissions shapefile \n",
    "NEI_CCS_emis_file = \"/Users/yunhalee/Documents/LOCAETA/CS_emissions/new_NEI_point_oilgas_ptegu_ptnonimps_CCS.shp\"\n",
    "LA_CCS_emis_file = \"/Users/yunhalee/Documents/LOCAETA/CS_emissions/new_LA_point_CCS_reduced_emis.shp\"\n",
    "\n",
    "\n",
    "\n",
    "nei_ccs_emis = gpd.read_file(NEI_CCS_emis_file)\n",
    "la_ccs_emis = gpd.read_file(LA_CCS_emis_file)\n"
   ]
  },
  {
   "cell_type": "code",
   "execution_count": 3,
   "metadata": {},
   "outputs": [],
   "source": [
    "# Rename the columns \n",
    "nei_ccs_emis = nei_ccs_emis.rename(columns ={'NH3':'NH3_new', 'NH3_old':'NH3'})\n",
    "la_ccs_emis = la_ccs_emis.rename(columns ={'NH3':'NH3_new', 'NH3_old':'NH3'})"
   ]
  },
  {
   "cell_type": "code",
   "execution_count": 4,
   "metadata": {},
   "outputs": [],
   "source": [
    "NEI_CCS_noNH3_file = \"/Users/yunhalee/Documents/LOCAETA/CS_emissions/new_NEI_point_oilgas_ptegu_ptnonimps_CCS_noNH3.shp\"\n",
    "LA_CCS_noNH3_file = \"/Users/yunhalee/Documents/LOCAETA/CS_emissions/new_LA_point_CCS_noNH3.shp\"\n",
    "\n",
    "# Save the changes in new shapefiles \n",
    "nei_ccs_emis.to_file(NEI_CCS_noNH3_file)\n",
    "la_ccs_emis.to_file(LA_CCS_noNH3_file)"
   ]
  }
 ],
 "metadata": {
  "kernelspec": {
   "display_name": "Python 3",
   "language": "python",
   "name": "python3"
  },
  "language_info": {
   "codemirror_mode": {
    "name": "ipython",
    "version": 3
   },
   "file_extension": ".py",
   "mimetype": "text/x-python",
   "name": "python",
   "nbconvert_exporter": "python",
   "pygments_lexer": "ipython3",
   "version": "3.10.14"
  }
 },
 "nbformat": 4,
 "nbformat_minor": 2
}
